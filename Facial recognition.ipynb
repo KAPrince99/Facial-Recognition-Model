{
 "cells": [
  {
   "cell_type": "markdown",
   "id": "025fb9e6",
   "metadata": {},
   "source": [
    "## Import Dependencies"
   ]
  },
  {
   "cell_type": "code",
   "execution_count": 1,
   "id": "30d71746",
   "metadata": {},
   "outputs": [],
   "source": [
    "import cv2\n",
    "import os\n",
    "import random\n",
    "import numpy as np\n",
    "from matplotlib import pyplot as plt"
   ]
  },
  {
   "cell_type": "markdown",
   "id": "ec7fb390",
   "metadata": {},
   "source": [
    "## Now we goinng to import our tensorflow dependencies - Functional API\n",
    "So the model we are going to build is siamese neural network which allows us to do something we call a one shot image Recognition.We can actually pass through two images and determine whether or not that image is the same.\n",
    "When you look at the achitecture here(Diagram 3) ,you can see that we are going to have two inputs(images) at the same time and we are going to have this distance layer, so this actually measures the similarities between this two images and we are going to train our neural network to determine what that similarity is like, so if it's very similar then we are going to output a 1 which means it is verified if not 0 which means we are unverified.\n",
    "\n",
    "(Diagram 4)\n",
    "Now in terms of the neural network that we are going to be building,we are effectively going to be implementing this(Diagram).We are going to be using the tensorflow functional API.\n",
    "so we need to import those functional Api components.\n",
    "\n",
    "Conv2D - Allows us to perform convolutional neural networks\n",
    "Dense - This gives us a fully connected layer\n",
    "Maxpooling - So this allows us to pool our layers back together and effectively shrinks the information that we actually got.\n",
    "Input- defines what we are actually passing through our model \n",
    "Flatten -This takes all information taken from a previous layer adn flattens it down to a single dimension.So that allows us to pass convulational neural networks to a dense layer."
   ]
  },
  {
   "cell_type": "code",
   "execution_count": 2,
   "id": "e34d8701",
   "metadata": {},
   "outputs": [],
   "source": [
    "from tensorflow.keras.models import Model\n",
    "from tensorflow.keras.layers import Layer,Conv2D, Dense, MaxPooling2D, Input, Flatten,Embedding\n",
    "import tensorflow as tf"
   ]
  },
  {
   "cell_type": "markdown",
   "id": "5d312d03",
   "metadata": {},
   "source": [
    "## Set GPU Growth\n",
    "We are limiting how much the RAM Tensorflow can use on the GPU, because by default tensorflow is going to expand to take it all over and if you dont run this then uyou are goingto run into out of memory errors. So This avoids this."
   ]
  },
  {
   "cell_type": "code",
   "execution_count": 3,
   "id": "ff3c509e",
   "metadata": {},
   "outputs": [],
   "source": [
    "# Avoid OOM errors by setting GPU Memory Consumption Growth\n",
    "#So what this line is doing is its getting allthe available gpus on our machine\n",
    "gpus = tf.config.experimental.list_physical_devices('GPU')\n",
    "#Loopinf through gpus to set our memory growth\n",
    "for gpu in gpus: \n",
    "    tf.config.experimental.set_memory_growth(gpu, True)"
   ]
  },
  {
   "cell_type": "markdown",
   "id": "6eb53b1f",
   "metadata": {},
   "source": [
    "## Create Folder Structures\n",
    "So we actaully setting up our Folder structures to make sure we are in a good place when it comes to getting our datac folders: Anchor, Positive and Negative\n",
    "Diagram 2\n",
    "So when we actually move to our neural network to perform our facial verification, we are actally goinhg to pass through two images,we going to pass through an image called Anchor(input image captured from your phone or webcam, an image verifying you in real time) and we then pass through a verification image(Positive or Negative). So what we are effectively going to do is to say hey does our anchor match with our verication image, if it does, outputs same, when our neural netwrok does, it it outputs 1.  Because we want out neural network to be able to distiguish between ouselves and another person.\n",
    "So we are going to call the input image an Anchor image, the Verifcation image which is positive a positive image and the ver image which is negative a negative image.\n",
    "Actaully downloaded all the negative images from a repository called \"Labelled faces in the world\".\n",
    "we are going to be using our webcam to collect our positives."
   ]
  },
  {
   "cell_type": "code",
   "execution_count": 6,
   "id": "8c48bc4f",
   "metadata": {},
   "outputs": [],
   "source": [
    "# Setup paths\n",
    "#so what os.path.join does is it joins different directories together to be able to form a full file path\n",
    "POS_PATH = os.path.join('data', 'positive')\n",
    "NEG_PATH = os.path.join('data', 'negative')\n",
    "ANC_PATH = os.path.join('data', 'anchor')"
   ]
  },
  {
   "cell_type": "code",
   "execution_count": null,
   "id": "d2bb4cd8",
   "metadata": {},
   "outputs": [],
   "source": [
    "# Make the directories\n",
    "os.makedirs(POS_PATH)\n",
    "os.makedirs(NEG_PATH)\n",
    "os.makedirs(ANC_PATH)"
   ]
  },
  {
   "cell_type": "markdown",
   "id": "572aeb00",
   "metadata": {},
   "source": [
    "# Collect Positives and Anchors\n",
    "\n",
    "## Untar Labelled Faces in the Wild Dataset"
   ]
  },
  {
   "cell_type": "code",
   "execution_count": 494,
   "id": "913ee035",
   "metadata": {},
   "outputs": [],
   "source": [
    "# http://vis-www.cs.umass.edu/lfw/"
   ]
  },
  {
   "cell_type": "code",
   "execution_count": 495,
   "id": "2e3a776f",
   "metadata": {},
   "outputs": [],
   "source": [
    "# Uncompress Tar GZ Labelled Faces in the Wild Dataset\n",
    "#!tar -xf lfw.tgz\n",
    "#Already did that\n"
   ]
  },
  {
   "cell_type": "code",
   "execution_count": null,
   "id": "15f7266b",
   "metadata": {},
   "outputs": [],
   "source": [
    "#Move LFWW Images to the following repository data/negative\n",
    "for directory in os.listdir(\"lfw\"):\n",
    "    for file in os.listdir(os.path.join(\"lfw\", directory)):  \n",
    "        EX_PATH = os.path.join(\"lfw\",directory,file)\n",
    "        NEW_PATH = os.path.join(NEG_PATH, file)\n",
    "        os.replace(EX_PATH,NEW_PATH)\n"
   ]
  },
  {
   "cell_type": "markdown",
   "id": "7bea4087",
   "metadata": {},
   "source": [
    "## Collect Positive and Anchor images"
   ]
  },
  {
   "cell_type": "code",
   "execution_count": 4,
   "id": "6c8e1987",
   "metadata": {},
   "outputs": [],
   "source": [
    "# Import uuid library to generate unique image names\n",
    "import uuid"
   ]
  },
  {
   "cell_type": "code",
   "execution_count": 8,
   "id": "1dcc5c6f",
   "metadata": {},
   "outputs": [
    {
     "data": {
      "text/plain": [
       "'data\\\\anchor\\\\2f034539-23b8-11ed-b67b-80ce6285d360.jpg'"
      ]
     },
     "execution_count": 8,
     "metadata": {},
     "output_type": "execute_result"
    }
   ],
   "source": [
    "os.path.join(ANC_PATH, '{}.jpg'.format(uuid.uuid1()))"
   ]
  },
  {
   "cell_type": "code",
   "execution_count": 9,
   "id": "e1060ea5",
   "metadata": {},
   "outputs": [],
   "source": [
    "#For this what we are going to be doing is we are going to be using our openCv to access our webcam tp collect our anchor and positive\n",
    "# Establish a connection to the webcam\n",
    "cap = cv2.VideoCapture(0) #Video capture device 0\n",
    "while cap.isOpened():\n",
    "    ret, frame = cap.read()\n",
    "   \n",
    "    # Cut down frame to 250x250px\n",
    "    frame = frame[120:120+250,200:200+250, :]\n",
    "    \n",
    "    # Collect anchors \n",
    "    if cv2.waitKey(1) & 0XFF == ord('a'):\n",
    "        # Create the unique file path \n",
    "        imgname = os.path.join(ANC_PATH, '{}.jpg'.format(uuid.uuid1()))\n",
    "        # Write out anchor image\n",
    "        cv2.imwrite(imgname, frame)\n",
    "    \n",
    "    # Collect positives\n",
    "    if cv2.waitKey(1) & 0XFF == ord('p'):\n",
    "        # Create the unique file path \n",
    "        imgname = os.path.join(POS_PATH, '{}.jpg'.format(uuid.uuid1()))\n",
    "        # Write out positive image\n",
    "        cv2.imwrite(imgname, frame)\n",
    "    \n",
    "    # Show image back to screen\n",
    "    cv2.imshow('Image Collection', frame)\n",
    "    \n",
    "    # Breaking gracefully\n",
    "    if cv2.waitKey(1) & 0XFF == ord('q'):\n",
    "        break\n",
    "        \n",
    "# Release the webcam\n",
    "cap.release()\n",
    "# Close the image show frame\n",
    "cv2.destroyAllWindows()"
   ]
  },
  {
   "cell_type": "code",
   "execution_count": 10,
   "id": "e44a79ae",
   "metadata": {
    "scrolled": true
   },
   "outputs": [
    {
     "data": {
      "text/plain": [
       "<matplotlib.image.AxesImage at 0x279cfd3b880>"
      ]
     },
     "execution_count": 10,
     "metadata": {},
     "output_type": "execute_result"
    },
    {
     "data": {
      "image/png": "[encoded data removed]",
      "text/plain": [
       "<Figure size 432x288 with 1 Axes>"
      ]
     },
     "metadata": {
      "needs_background": "light"
     },
     "output_type": "display_data"
    }
   ],
   "source": [
    "plt.imshow(frame[120:120+250,200:200+250, :])"
   ]
  },
  {
   "cell_type": "markdown",
   "id": "6fdd9fad",
   "metadata": {},
   "source": [
    "# Data Augmention"
   ]
  },
  {
   "cell_type": "code",
   "execution_count": 502,
   "id": "b34af3eb",
   "metadata": {},
   "outputs": [],
   "source": [
    "def data_aug(img):\n",
    "    data = []\n",
    "    for i in range(9):\n",
    "        img = tf.image.stateless_random_brightness(img, max_delta=0.02, seed=(1,2))\n",
    "        img = tf.image.stateless_random_contrast(img, lower=0.6, upper=1, seed=(1,3))\n",
    "        # img = tf.image.stateless_random_crop(img, size=(20,20,3), seed=(1,2))\n",
    "        img = tf.image.stateless_random_flip_left_right(img, seed=(np.random.randint(100),np.random.randint(100)))\n",
    "        img = tf.image.stateless_random_jpeg_quality(img, min_jpeg_quality=90, max_jpeg_quality=100, seed=(np.random.randint(100),np.random.randint(100)))\n",
    "        img = tf.image.stateless_random_saturation(img, lower=0.9,upper=1, seed=(np.random.randint(100),np.random.randint(100)))\n",
    "            \n",
    "        data.append(img)\n",
    "    \n",
    "    return data"
   ]
  },
  {
   "cell_type": "code",
   "execution_count": null,
   "id": "24971691",
   "metadata": {},
   "outputs": [],
   "source": []
  },
  {
   "cell_type": "code",
   "execution_count": null,
   "id": "64bf549f",
   "metadata": {},
   "outputs": [],
   "source": []
  },
  {
   "cell_type": "markdown",
   "id": "e642a860",
   "metadata": {},
   "source": [
    "# load and Preprocess Images\n",
    "\n",
    "## Get Image Directories\n",
    "\n",
    "so what we ae going to respectively load all the folders from their respective directories, we are goig to create a preprocessing pipeline and associate our positive and negative classes."
   ]
  },
  {
   "cell_type": "code",
   "execution_count": 11,
   "id": "dcadc7c4",
   "metadata": {},
   "outputs": [],
   "source": [
    "#Grabbing all different images within  specific directories\n",
    "anchor = tf.data.Dataset.list_files(ANC_PATH+'\\*.jpg').take(3000)\n",
    "positive = tf.data.Dataset.list_files(POS_PATH+'\\*.jpg').take(3000)\n",
    "negative = tf.data.Dataset.list_files(NEG_PATH+'\\*.jpg').take(3000)"
   ]
  },
  {
   "cell_type": "code",
   "execution_count": 12,
   "id": "fbae8d0e",
   "metadata": {},
   "outputs": [],
   "source": [
    "dir_test = anchor.as_numpy_iterator()"
   ]
  },
  {
   "cell_type": "code",
   "execution_count": 13,
   "id": "6452d72a",
   "metadata": {},
   "outputs": [
    {
     "name": "stdout",
     "output_type": "stream",
     "text": [
      "b'data\\\\anchor\\\\2875b9d3-23b9-11ed-9e96-80ce6285d360.jpg'\n"
     ]
    }
   ],
   "source": [
    "print(dir_test.next())"
   ]
  },
  {
   "cell_type": "markdown",
   "id": "9f06c980",
   "metadata": {},
   "source": [
    "## Preprocessing - Scale and Resize"
   ]
  },
  {
   "cell_type": "code",
   "execution_count": 14,
   "id": "d0e0e347",
   "metadata": {},
   "outputs": [],
   "source": [
    "#Writing a preprocessing function that loads our images from our directories, resize it(100px by 100px) and perform some scaling\n",
    "#So we are going to convert all our image values from 0 to 255 to 0 to 1 so this help our neural network optimize a little easier\n",
    "\n",
    "def preprocess(file_path):\n",
    "    \n",
    "    # Read in image from file path\n",
    "    byte_img = tf.io.read_file(file_path)\n",
    "    # Load in the image \n",
    "    img = tf.io.decode_jpeg(byte_img)\n",
    "    \n",
    "    # Preprocessing steps - resizing the image to be 100x100x3\n",
    "    img = tf.image.resize(img, (100,100))\n",
    "    # Scale image to be between 0 and 1 \n",
    "    img = img / 255.0\n",
    "\n",
    "    # Return image\n",
    "    return img"
   ]
  },
  {
   "cell_type": "code",
   "execution_count": 15,
   "id": "8deeb6f5",
   "metadata": {},
   "outputs": [],
   "source": [
    "img = preprocess('data\\\\anchor\\\\2875b9d3-23b9-11ed-9e96-80ce6285d360.jpg')"
   ]
  },
  {
   "cell_type": "code",
   "execution_count": 16,
   "id": "9bca122a",
   "metadata": {},
   "outputs": [
    {
     "data": {
      "text/plain": [
       "1.0"
      ]
     },
     "execution_count": 16,
     "metadata": {},
     "output_type": "execute_result"
    }
   ],
   "source": [
    "img.numpy().max()"
   ]
  },
  {
   "cell_type": "code",
   "execution_count": 17,
   "id": "a4c936db",
   "metadata": {},
   "outputs": [
    {
     "data": {
      "text/plain": [
       "<matplotlib.image.AxesImage at 0x279d2ab7070>"
      ]
     },
     "execution_count": 17,
     "metadata": {},
     "output_type": "execute_result"
    },
    {
     "data": {
      "image/png": "[encoded data removed]",
      "text/plain": [
       "<Figure size 432x288 with 1 Axes>"
      ]
     },
     "metadata": {
      "needs_background": "light"
     },
     "output_type": "display_data"
    }
   ],
   "source": [
    "plt.imshow(img)"
   ]
  },
  {
   "cell_type": "markdown",
   "id": "4dee1d5d",
   "metadata": {},
   "source": [
    "## Create Labelled Dataset\n",
    "Creating a set of twins, because we are going to be passing two values at the same time"
   ]
  },
  {
   "cell_type": "code",
   "execution_count": 30,
   "id": "a5ca9b54",
   "metadata": {},
   "outputs": [],
   "source": [
    "# (anchor, positive) => 1,1,1,1,1\n",
    "# (anchor, negative) => 0,0,0,0,0\n",
    "\n"
   ]
  },
  {
   "cell_type": "code",
   "execution_count": 18,
   "id": "3881a6b9",
   "metadata": {},
   "outputs": [],
   "source": [
    "# Creating our positive Smaples\n",
    "positives = tf.data.Dataset.zip((anchor, positive, tf.data.Dataset.from_tensor_slices(tf.ones(len(anchor)))))\n",
    "# Creating our negative Samples\n",
    "negatives = tf.data.Dataset.zip((anchor, negative, tf.data.Dataset.from_tensor_slices(tf.zeros(len(anchor)))))\n",
    "#Went ahaid to concatinate these together so that we can be able to work with them\n",
    "data = positives.concatenate(negatives)"
   ]
  },
  {
   "cell_type": "code",
   "execution_count": 19,
   "id": "08ef6585",
   "metadata": {},
   "outputs": [],
   "source": [
    "samples = data.as_numpy_iterator()"
   ]
  },
  {
   "cell_type": "code",
   "execution_count": 20,
   "id": "fd6c8d9b",
   "metadata": {},
   "outputs": [],
   "source": [
    "exampple = samples.next()"
   ]
  },
  {
   "cell_type": "code",
   "execution_count": 21,
   "id": "e4b565fc",
   "metadata": {},
   "outputs": [
    {
     "data": {
      "text/plain": [
       "(b'data\\\\anchor\\\\15e95f6e-23b9-11ed-8e7a-80ce6285d360.jpg',\n",
       " b'data\\\\positive\\\\d69dbe0b-23b8-11ed-8896-80ce6285d360.jpg',\n",
       " 1.0)"
      ]
     },
     "execution_count": 21,
     "metadata": {},
     "output_type": "execute_result"
    }
   ],
   "source": [
    "exampple"
   ]
  },
  {
   "cell_type": "markdown",
   "id": "0b9395b5",
   "metadata": {},
   "source": [
    "## Build and Train Test Partition"
   ]
  },
  {
   "cell_type": "code",
   "execution_count": 22,
   "id": "27a4de63",
   "metadata": {},
   "outputs": [],
   "source": [
    "#Then we write our preprocess twin function and have to apply this to our data\n",
    "def preprocess_twin(input_img, validation_img, label):\n",
    "    return(preprocess(input_img), preprocess(validation_img), label)"
   ]
  },
  {
   "cell_type": "code",
   "execution_count": 23,
   "id": "925cf782",
   "metadata": {},
   "outputs": [],
   "source": [
    "res = preprocess_twin(*exampple)"
   ]
  },
  {
   "cell_type": "code",
   "execution_count": 24,
   "id": "963f04fc",
   "metadata": {},
   "outputs": [
    {
     "data": {
      "text/plain": [
       "<matplotlib.image.AxesImage at 0x279d2b32d40>"
      ]
     },
     "execution_count": 24,
     "metadata": {},
     "output_type": "execute_result"
    },
    {
     "data": {
      "image/png": "[encoded data removed]",
      "text/plain": [
       "<Figure size 432x288 with 1 Axes>"
      ]
     },
     "metadata": {
      "needs_background": "light"
     },
     "output_type": "display_data"
    }
   ],
   "source": [
    "plt.imshow(res[1])"
   ]
  },
  {
   "cell_type": "code",
   "execution_count": 25,
   "id": "db8cb7aa",
   "metadata": {},
   "outputs": [
    {
     "data": {
      "text/plain": [
       "1.0"
      ]
     },
     "execution_count": 25,
     "metadata": {},
     "output_type": "execute_result"
    }
   ],
   "source": [
    "res[2]"
   ]
  },
  {
   "cell_type": "code",
   "execution_count": 26,
   "id": "71201bcf",
   "metadata": {},
   "outputs": [],
   "source": [
    "# Build dataloader pipeline\n",
    "data = data.map(preprocess_twin)\n",
    "data = data.cache()\n",
    "data = data.shuffle(buffer_size=10000)"
   ]
  },
  {
   "cell_type": "code",
   "execution_count": 27,
   "id": "cb5662ef",
   "metadata": {},
   "outputs": [],
   "source": [
    "# Training partition\n",
    "\n",
    "#This is effectively gabbing a certain percentage of our data set,actually taking 70% as my training partition\n",
    "train_data = data.take(round(len(data)*.7))\n",
    "\n",
    "#Now we passing our data into 16 batches of images\n",
    "train_data = train_data.batch(16)\n",
    "\n",
    "#Prefech method start preprocessing the next set of images so that we dont bother our neural network when we go and train\n",
    "train_data = train_data.prefetch(8)"
   ]
  },
  {
   "cell_type": "code",
   "execution_count": 28,
   "id": "c5662eda",
   "metadata": {},
   "outputs": [],
   "source": [
    "# Testing partition\n",
    "#Going to grab the last 30 pecent of my images\n",
    "test_data = data.skip(round(len(data)*.7))\n",
    "test_data = test_data.take(round(len(data)*.3))\n",
    "test_data = test_data.batch(16)\n",
    "test_data = test_data.prefetch(8)"
   ]
  },
  {
   "cell_type": "markdown",
   "id": "06fd0a2b",
   "metadata": {},
   "source": [
    "# Model Engineering\n",
    "#Now getting into the deep learning part of the model\n",
    "\n",
    "1.Build an embedding layer\n",
    "This is actally going to form a feature mapping mapping pipeline for our specific model.This is going to go into ou embedding layer and  convert our raw image into a data representation.Going to allow our neural network to ddetermine whether the person is verified or not\n",
    "\n",
    "2.Create an L1 Distance Layer\n",
    "we compare our Anchor image with our positive image or negative image using our L1 distance layer to check whether or image is verified or not\n",
    "\n",
    "3.we Compile them together to build our  Siamese \n",
    "\n",
    "A Siamese Network is an Artificial Neural network that works on two inputs to compute a comparable output\n",
    "\n",
    "## Build Embedding Layer"
   ]
  },
  {
   "cell_type": "code",
   "execution_count": 29,
   "id": "74d1d857",
   "metadata": {},
   "outputs": [],
   "source": [
    "inp = Input(shape=(100,100,3), name='input_image')"
   ]
  },
  {
   "cell_type": "code",
   "execution_count": 30,
   "id": "49ca8502",
   "metadata": {},
   "outputs": [],
   "source": [
    "c1 = Conv2D(64, (10,10), activation='relu')(inp)"
   ]
  },
  {
   "cell_type": "code",
   "execution_count": 31,
   "id": "593992c6",
   "metadata": {},
   "outputs": [],
   "source": [
    "m1 = MaxPooling2D(64, (2,2), padding='same')(c1)"
   ]
  },
  {
   "cell_type": "code",
   "execution_count": 32,
   "id": "ec4adf6e",
   "metadata": {},
   "outputs": [],
   "source": [
    "c2 = Conv2D(128, (7,7), activation='relu')(m1)\n",
    "m2 = MaxPooling2D(64, (2,2), padding='same')(c2)"
   ]
  },
  {
   "cell_type": "code",
   "execution_count": 33,
   "id": "12644e7d",
   "metadata": {},
   "outputs": [],
   "source": [
    "c3 = Conv2D(128, (4,4), activation='relu')(m2)\n",
    "m3 = MaxPooling2D(64, (2,2), padding='same')(c3)"
   ]
  },
  {
   "cell_type": "code",
   "execution_count": 34,
   "id": "24922595",
   "metadata": {},
   "outputs": [],
   "source": [
    "c4 = Conv2D(256, (4,4), activation='relu')(m3)\n",
    "f1 = Flatten()(c4)\n",
    "d1 = Dense(4096, activation='sigmoid')(f1)"
   ]
  },
  {
   "cell_type": "code",
   "execution_count": 35,
   "id": "0f56d3f4",
   "metadata": {},
   "outputs": [],
   "source": [
    "mod = Model(inputs=[inp], outputs=[d1], name='embedding')"
   ]
  },
  {
   "cell_type": "code",
   "execution_count": 36,
   "id": "926ce328",
   "metadata": {
    "scrolled": true
   },
   "outputs": [
    {
     "name": "stdout",
     "output_type": "stream",
     "text": [
      "Model: \"embedding\"\n",
      "_________________________________________________________________\n",
      " Layer (type)                Output Shape              Param #   \n",
      "=================================================================\n",
      " input_image (InputLayer)    [(None, 100, 100, 3)]     0         \n",
      "                                                                 \n",
      " conv2d (Conv2D)             (None, 91, 91, 64)        19264     \n",
      "                                                                 \n",
      " max_pooling2d (MaxPooling2D  (None, 46, 46, 64)       0         \n",
      " )                                                               \n",
      "                                                                 \n",
      " conv2d_1 (Conv2D)           (None, 40, 40, 128)       401536    \n",
      "                                                                 \n",
      " max_pooling2d_1 (MaxPooling  (None, 20, 20, 128)      0         \n",
      " 2D)                                                             \n",
      "                                                                 \n",
      " conv2d_2 (Conv2D)           (None, 17, 17, 128)       262272    \n",
      "                                                                 \n",
      " max_pooling2d_2 (MaxPooling  (None, 9, 9, 128)        0         \n",
      " 2D)                                                             \n",
      "                                                                 \n",
      " conv2d_3 (Conv2D)           (None, 6, 6, 256)         524544    \n",
      "                                                                 \n",
      " flatten (Flatten)           (None, 9216)              0         \n",
      "                                                                 \n",
      " dense (Dense)               (None, 4096)              37752832  \n",
      "                                                                 \n",
      "=================================================================\n",
      "Total params: 38,960,448\n",
      "Trainable params: 38,960,448\n",
      "Non-trainable params: 0\n",
      "_________________________________________________________________\n"
     ]
    }
   ],
   "source": [
    "mod.summary()"
   ]
  },
  {
   "cell_type": "code",
   "execution_count": 37,
   "id": "3f988646",
   "metadata": {},
   "outputs": [],
   "source": [
    "\n",
    "def make_embedding(): \n",
    "    inp = Input(shape=(100,100,3), name='input_image')\n",
    "    \n",
    "    # First block\n",
    "    c1 = Conv2D(64, (10,10), activation='relu')(inp)\n",
    "    m1 = MaxPooling2D(64, (2,2), padding='same')(c1)\n",
    "    \n",
    "    # Second block\n",
    "    c2 = Conv2D(128, (7,7), activation='relu')(m1)\n",
    "    m2 = MaxPooling2D(64, (2,2), padding='same')(c2)\n",
    "    \n",
    "    # Third block \n",
    "    c3 = Conv2D(128, (4,4), activation='relu')(m2)\n",
    "    m3 = MaxPooling2D(64, (2,2), padding='same')(c3)\n",
    "    \n",
    "    # Final embedding block\n",
    "    c4 = Conv2D(256, (4,4), activation='relu')(m3)\n",
    "    f1 = Flatten()(c4)\n",
    "    d1 = Dense(4096, activation='sigmoid')(f1)\n",
    "    \n",
    "    \n",
    "    return Model(inputs=[inp], outputs=[d1], name='embedding')"
   ]
  },
  {
   "cell_type": "code",
   "execution_count": 38,
   "id": "e408c624",
   "metadata": {},
   "outputs": [],
   "source": [
    "embedding = make_embedding()"
   ]
  },
  {
   "cell_type": "code",
   "execution_count": 39,
   "id": "2f8e0b1a",
   "metadata": {
    "scrolled": true
   },
   "outputs": [
    {
     "name": "stdout",
     "output_type": "stream",
     "text": [
      "Model: \"embedding\"\n",
      "_________________________________________________________________\n",
      " Layer (type)                Output Shape              Param #   \n",
      "=================================================================\n",
      " input_image (InputLayer)    [(None, 100, 100, 3)]     0         \n",
      "                                                                 \n",
      " conv2d_4 (Conv2D)           (None, 91, 91, 64)        19264     \n",
      "                                                                 \n",
      " max_pooling2d_3 (MaxPooling  (None, 46, 46, 64)       0         \n",
      " 2D)                                                             \n",
      "                                                                 \n",
      " conv2d_5 (Conv2D)           (None, 40, 40, 128)       401536    \n",
      "                                                                 \n",
      " max_pooling2d_4 (MaxPooling  (None, 20, 20, 128)      0         \n",
      " 2D)                                                             \n",
      "                                                                 \n",
      " conv2d_6 (Conv2D)           (None, 17, 17, 128)       262272    \n",
      "                                                                 \n",
      " max_pooling2d_5 (MaxPooling  (None, 9, 9, 128)        0         \n",
      " 2D)                                                             \n",
      "                                                                 \n",
      " conv2d_7 (Conv2D)           (None, 6, 6, 256)         524544    \n",
      "                                                                 \n",
      " flatten_1 (Flatten)         (None, 9216)              0         \n",
      "                                                                 \n",
      " dense_1 (Dense)             (None, 4096)              37752832  \n",
      "                                                                 \n",
      "=================================================================\n",
      "Total params: 38,960,448\n",
      "Trainable params: 38,960,448\n",
      "Non-trainable params: 0\n",
      "_________________________________________________________________\n"
     ]
    }
   ],
   "source": [
    "embedding.summary()"
   ]
  },
  {
   "cell_type": "markdown",
   "id": "e434f4d8",
   "metadata": {},
   "source": [
    "## Build Distance Layer"
   ]
  },
  {
   "cell_type": "code",
   "execution_count": 40,
   "id": "db524495",
   "metadata": {},
   "outputs": [],
   "source": [
    "# Siamese L1 Distance class\n",
    "class L1Dist(Layer):\n",
    "    \n",
    "    # Init method - inheritance\n",
    "    def __init__(self, **kwargs):\n",
    "        super().__init__()\n",
    "       \n",
    "    # Magic happens here - similarity calculation\n",
    "    def call(self, input_embedding, validation_embedding):\n",
    "        return tf.math.abs(input_embedding - validation_embedding)"
   ]
  },
  {
   "cell_type": "code",
   "execution_count": 41,
   "id": "dbb7ff42",
   "metadata": {},
   "outputs": [],
   "source": [
    "l1 = L1Dist()"
   ]
  },
  {
   "cell_type": "code",
   "execution_count": 42,
   "id": "8f43c121",
   "metadata": {},
   "outputs": [
    {
     "data": {
      "text/plain": [
       "<__main__.L1Dist at 0x279cfa954e0>"
      ]
     },
     "execution_count": 42,
     "metadata": {},
     "output_type": "execute_result"
    }
   ],
   "source": [
    "l1"
   ]
  },
  {
   "cell_type": "markdown",
   "id": "80bd2842",
   "metadata": {},
   "source": [
    "## Make a Siamese Model"
   ]
  },
  {
   "cell_type": "code",
   "execution_count": 43,
   "id": "06721534",
   "metadata": {},
   "outputs": [],
   "source": [
    "input_image = Input(name='input_img', shape=(100,100,3))\n",
    "validation_image = Input(name='validation_img', shape=(100,100,3))"
   ]
  },
  {
   "cell_type": "code",
   "execution_count": 44,
   "id": "ae796c2f",
   "metadata": {},
   "outputs": [],
   "source": [
    "inp_embedding = embedding(input_image)\n",
    "val_embedding = embedding(validation_image)"
   ]
  },
  {
   "cell_type": "code",
   "execution_count": 45,
   "id": "89cdf00c",
   "metadata": {},
   "outputs": [],
   "source": [
    "siamese_layer = L1Dist()"
   ]
  },
  {
   "cell_type": "code",
   "execution_count": 46,
   "id": "77d13038",
   "metadata": {},
   "outputs": [],
   "source": [
    "distances = siamese_layer(inp_embedding, val_embedding)\n"
   ]
  },
  {
   "cell_type": "code",
   "execution_count": 47,
   "id": "abe7c566",
   "metadata": {},
   "outputs": [],
   "source": [
    "classifier = Dense(1, activation='sigmoid')(distances)"
   ]
  },
  {
   "cell_type": "code",
   "execution_count": 48,
   "id": "e936d75b",
   "metadata": {},
   "outputs": [
    {
     "data": {
      "text/plain": [
       "<KerasTensor: shape=(None, 1) dtype=float32 (created by layer 'dense_2')>"
      ]
     },
     "execution_count": 48,
     "metadata": {},
     "output_type": "execute_result"
    }
   ],
   "source": [
    "classifier\n"
   ]
  },
  {
   "cell_type": "code",
   "execution_count": 49,
   "id": "d76ad97c",
   "metadata": {},
   "outputs": [],
   "source": [
    "siamese_network = Model(inputs=[input_image, validation_image], outputs=classifier, name='SiameseNetwork')"
   ]
  },
  {
   "cell_type": "code",
   "execution_count": 50,
   "id": "9c2ef524",
   "metadata": {
    "scrolled": true
   },
   "outputs": [
    {
     "name": "stdout",
     "output_type": "stream",
     "text": [
      "Model: \"SiameseNetwork\"\n",
      "__________________________________________________________________________________________________\n",
      " Layer (type)                   Output Shape         Param #     Connected to                     \n",
      "==================================================================================================\n",
      " input_img (InputLayer)         [(None, 100, 100, 3  0           []                               \n",
      "                                )]                                                                \n",
      "                                                                                                  \n",
      " validation_img (InputLayer)    [(None, 100, 100, 3  0           []                               \n",
      "                                )]                                                                \n",
      "                                                                                                  \n",
      " embedding (Functional)         (None, 4096)         38960448    ['input_img[0][0]',              \n",
      "                                                                  'validation_img[0][0]']         \n",
      "                                                                                                  \n",
      " l1_dist_1 (L1Dist)             (None, 4096)         0           ['embedding[0][0]',              \n",
      "                                                                  'embedding[1][0]']              \n",
      "                                                                                                  \n",
      " dense_2 (Dense)                (None, 1)            4097        ['l1_dist_1[0][0]']              \n",
      "                                                                                                  \n",
      "==================================================================================================\n",
      "Total params: 38,964,545\n",
      "Trainable params: 38,964,545\n",
      "Non-trainable params: 0\n",
      "__________________________________________________________________________________________________\n"
     ]
    }
   ],
   "source": [
    "siamese_network.summary()"
   ]
  },
  {
   "cell_type": "code",
   "execution_count": 51,
   "id": "8a3a6fd5",
   "metadata": {},
   "outputs": [],
   "source": [
    "def make_siamese_model(): \n",
    "    \n",
    "    # Anchor image input in the network\n",
    "    input_image = Input(name='input_img', shape=(100,100,3))\n",
    "    \n",
    "    # Validation image in the network \n",
    "    validation_image = Input(name='validation_img', shape=(100,100,3))\n",
    "    \n",
    "    # Combine siamese distance components\n",
    "    siamese_layer = L1Dist()\n",
    "    siamese_layer._name = 'distance'\n",
    "    distances = siamese_layer(embedding(input_image), embedding(validation_image))\n",
    "    \n",
    "    # Classification layer \n",
    "    classifier = Dense(1, activation='sigmoid')(distances)\n",
    "    \n",
    "    return Model(inputs=[input_image, validation_image], outputs=classifier, name='SiameseNetwork')"
   ]
  },
  {
   "cell_type": "code",
   "execution_count": 52,
   "id": "2e2fb779",
   "metadata": {},
   "outputs": [],
   "source": [
    "siamese_model = make_siamese_model()"
   ]
  },
  {
   "cell_type": "code",
   "execution_count": 53,
   "id": "797523f3",
   "metadata": {
    "scrolled": true
   },
   "outputs": [
    {
     "name": "stdout",
     "output_type": "stream",
     "text": [
      "Model: \"SiameseNetwork\"\n",
      "__________________________________________________________________________________________________\n",
      " Layer (type)                   Output Shape         Param #     Connected to                     \n",
      "==================================================================================================\n",
      " input_img (InputLayer)         [(None, 100, 100, 3  0           []                               \n",
      "                                )]                                                                \n",
      "                                                                                                  \n",
      " validation_img (InputLayer)    [(None, 100, 100, 3  0           []                               \n",
      "                                )]                                                                \n",
      "                                                                                                  \n",
      " embedding (Functional)         (None, 4096)         38960448    ['input_img[0][0]',              \n",
      "                                                                  'validation_img[0][0]']         \n",
      "                                                                                                  \n",
      " distance (L1Dist)              (None, 4096)         0           ['embedding[2][0]',              \n",
      "                                                                  'embedding[3][0]']              \n",
      "                                                                                                  \n",
      " dense_3 (Dense)                (None, 1)            4097        ['distance[0][0]']               \n",
      "                                                                                                  \n",
      "==================================================================================================\n",
      "Total params: 38,964,545\n",
      "Trainable params: 38,964,545\n",
      "Non-trainable params: 0\n",
      "__________________________________________________________________________________________________\n"
     ]
    }
   ],
   "source": [
    "siamese_model.summary()"
   ]
  },
  {
   "cell_type": "markdown",
   "id": "14f62d81",
   "metadata": {},
   "source": [
    "# Training"
   ]
  },
  {
   "cell_type": "markdown",
   "id": "f8ca5de5",
   "metadata": {},
   "source": [
    "## Setup Loss and Optimizer"
   ]
  },
  {
   "cell_type": "code",
   "execution_count": 54,
   "id": "1d732d1f",
   "metadata": {},
   "outputs": [],
   "source": [
    "binary_cross_loss = tf.losses.BinaryCrossentropy()"
   ]
  },
  {
   "cell_type": "code",
   "execution_count": 55,
   "id": "ae1fb847",
   "metadata": {},
   "outputs": [],
   "source": [
    "opt = tf.keras.optimizers.Adam(1e-4) # 0.0001"
   ]
  },
  {
   "cell_type": "markdown",
   "id": "19b64044",
   "metadata": {},
   "source": [
    "## Establish Checkpoints"
   ]
  },
  {
   "cell_type": "code",
   "execution_count": 56,
   "id": "2d7b03be",
   "metadata": {},
   "outputs": [],
   "source": [
    "checkpoint_dir = './training_checkpoints'\n",
    "checkpoint_prefix = os.path.join(checkpoint_dir, 'ckpt')\n",
    "checkpoint = tf.train.Checkpoint(opt=opt, siamese_model=siamese_model)"
   ]
  },
  {
   "cell_type": "markdown",
   "id": "b207b058",
   "metadata": {},
   "source": [
    "## Build Train Step Function"
   ]
  },
  {
   "cell_type": "code",
   "execution_count": 57,
   "id": "cec4931b",
   "metadata": {},
   "outputs": [],
   "source": [
    "test_batch = train_data.as_numpy_iterator()"
   ]
  },
  {
   "cell_type": "code",
   "execution_count": 58,
   "id": "d8f095df",
   "metadata": {},
   "outputs": [],
   "source": [
    "batch_1 = test_batch.next()"
   ]
  },
  {
   "cell_type": "code",
   "execution_count": 59,
   "id": "26ceaf1f",
   "metadata": {},
   "outputs": [],
   "source": [
    "X = batch_1[:2]"
   ]
  },
  {
   "cell_type": "code",
   "execution_count": 60,
   "id": "167ede23",
   "metadata": {},
   "outputs": [],
   "source": [
    "y = batch_1[2]"
   ]
  },
  {
   "cell_type": "code",
   "execution_count": 61,
   "id": "2cc0322d",
   "metadata": {},
   "outputs": [
    {
     "data": {
      "text/plain": [
       "array([1., 0., 1., 0., 1., 0., 0., 0., 1., 0., 0., 1., 0., 0., 0., 0.],\n",
       "      dtype=float32)"
      ]
     },
     "execution_count": 61,
     "metadata": {},
     "output_type": "execute_result"
    }
   ],
   "source": [
    "y"
   ]
  },
  {
   "cell_type": "code",
   "execution_count": 62,
   "id": "478d8fb9",
   "metadata": {},
   "outputs": [],
   "source": [
    "tf.losses.BinaryCrossentropy??"
   ]
  },
  {
   "cell_type": "code",
   "execution_count": 63,
   "id": "7ea72c7f",
   "metadata": {},
   "outputs": [],
   "source": [
    "@tf.function\n",
    "def train_step(batch):\n",
    "    \n",
    "    # Record all of our operations \n",
    "    with tf.GradientTape() as tape:     \n",
    "        # Get anchor and positive/negative image\n",
    "        X = batch[:2]\n",
    "        # Get label\n",
    "        y = batch[2]\n",
    "        \n",
    "        # Forward pass\n",
    "        yhat = siamese_model(X, training=True)\n",
    "        # Calculate loss\n",
    "        loss = binary_cross_loss(y, yhat)\n",
    "    print(loss)\n",
    "        \n",
    "    # Calculate gradients\n",
    "    grad = tape.gradient(loss, siamese_model.trainable_variables)\n",
    "    \n",
    "    # Calculate updated weights and apply to siamese model\n",
    "    opt.apply_gradients(zip(grad, siamese_model.trainable_variables))\n",
    "        \n",
    "    # Return loss\n",
    "    return loss"
   ]
  },
  {
   "cell_type": "markdown",
   "id": "c690dadf",
   "metadata": {},
   "source": [
    "## Building Training Loop"
   ]
  },
  {
   "cell_type": "code",
   "execution_count": 64,
   "id": "d9dbc662",
   "metadata": {},
   "outputs": [],
   "source": [
    "# Import metric calculations\n",
    "from tensorflow.keras.metrics import Precision, Recall\n"
   ]
  },
  {
   "cell_type": "code",
   "execution_count": 65,
   "id": "2b8687bf",
   "metadata": {},
   "outputs": [],
   "source": [
    "def train(data, EPOCHS):\n",
    "    # Loop through epochs\n",
    "    for epoch in range(1, EPOCHS+1):\n",
    "        print('\\n Epoch {}/{}'.format(epoch, EPOCHS))\n",
    "        progbar = tf.keras.utils.Progbar(len(data))\n",
    "        \n",
    "        # Creating a metric object \n",
    "        r = Recall()\n",
    "        p = Precision()\n",
    "        \n",
    "        # Loop through each batch\n",
    "        for idx, batch in enumerate(data):\n",
    "            # Run train step here\n",
    "            loss = train_step(batch)\n",
    "            yhat = siamese_model.predict(batch[:2])\n",
    "            r.update_state(batch[2], yhat)\n",
    "            p.update_state(batch[2], yhat) \n",
    "            progbar.update(idx+1)\n",
    "        print(loss.numpy(), r.result().numpy(), p.result().numpy())\n",
    "        \n",
    "        # Save checkpoints\n",
    "        if epoch % 10 == 0: \n",
    "            checkpoint.save(file_prefix=checkpoint_prefix)"
   ]
  },
  {
   "cell_type": "markdown",
   "id": "01c41db0",
   "metadata": {},
   "source": [
    "## Train Model"
   ]
  },
  {
   "cell_type": "code",
   "execution_count": 66,
   "id": "d1aa6664",
   "metadata": {},
   "outputs": [],
   "source": [
    "EPOCHS = 30"
   ]
  },
  {
   "cell_type": "code",
   "execution_count": 67,
   "id": "4b87dba8",
   "metadata": {},
   "outputs": [
    {
     "name": "stdout",
     "output_type": "stream",
     "text": [
      "\n",
      " Epoch 1/30\n",
      "Tensor(\"binary_crossentropy/weighted_loss/value:0\", shape=(), dtype=float32)\n",
      "Tensor(\"binary_crossentropy/weighted_loss/value:0\", shape=(), dtype=float32)\n",
      "4/5 [=======================>......] - ETA: 1:03Tensor(\"binary_crossentropy/weighted_loss/value:0\", shape=(), dtype=float32)\n",
      "5/5 [==============================] - 279s 53s/step\n",
      "0.33654094 0.0 0.0\n",
      "\n",
      " Epoch 2/30\n",
      "5/5 [==============================] - 265s 50s/step\n",
      "0.2547598 0.53571427 1.0\n",
      "\n",
      " Epoch 3/30\n",
      "5/5 [==============================] - 301s 57s/step\n",
      "0.1185652 0.8333333 1.0\n",
      "\n",
      " Epoch 4/30\n",
      "5/5 [==============================] - 304s 60s/step\n",
      "0.20434113 0.7777778 1.0\n",
      "\n",
      " Epoch 5/30\n",
      "5/5 [==============================] - 282s 53s/step\n",
      "0.33386865 0.7586207 1.0\n",
      "\n",
      " Epoch 6/30\n",
      "5/5 [==============================] - 250s 47s/step\n",
      "0.17494497 0.9 1.0\n",
      "\n",
      " Epoch 7/30\n",
      "5/5 [==============================] - 219s 42s/step\n",
      "0.000121364836 0.88 1.0\n",
      "\n",
      " Epoch 8/30\n",
      "5/5 [==============================] - 219s 42s/step\n",
      "0.021806562 0.85714287 1.0\n",
      "\n",
      " Epoch 9/30\n",
      "5/5 [==============================] - 218s 42s/step\n",
      "0.15999846 1.0 1.0\n",
      "\n",
      " Epoch 10/30\n",
      "5/5 [==============================] - 221s 43s/step\n",
      "0.16335812 1.0 1.0\n",
      "\n",
      " Epoch 11/30\n",
      "5/5 [==============================] - 226s 44s/step\n",
      "0.11298565 1.0 1.0\n",
      "\n",
      " Epoch 12/30\n",
      "5/5 [==============================] - 220s 43s/step\n",
      "0.121034466 1.0 1.0\n",
      "\n",
      " Epoch 13/30\n",
      "5/5 [==============================] - 231s 45s/step\n",
      "0.022268372 1.0 1.0\n",
      "\n",
      " Epoch 14/30\n",
      "5/5 [==============================] - 219s 42s/step\n",
      "0.061194837 1.0 1.0\n",
      "\n",
      " Epoch 15/30\n",
      "5/5 [==============================] - 222s 43s/step\n",
      "0.004562875 1.0 1.0\n",
      "\n",
      " Epoch 16/30\n",
      "5/5 [==============================] - 222s 43s/step\n",
      "0.0035805334 1.0 1.0\n",
      "\n",
      " Epoch 17/30\n",
      "5/5 [==============================] - 219s 42s/step\n",
      "0.0013178143 1.0 1.0\n",
      "\n",
      " Epoch 18/30\n",
      "5/5 [==============================] - 221s 42s/step\n",
      "0.011331578 1.0 1.0\n",
      "\n",
      " Epoch 19/30\n",
      "5/5 [==============================] - 220s 42s/step\n",
      "0.01531298 1.0 1.0\n",
      "\n",
      " Epoch 20/30\n",
      "5/5 [==============================] - 216s 42s/step\n",
      "8.094421e-06 1.0 1.0\n",
      "\n",
      " Epoch 21/30\n",
      "5/5 [==============================] - 218s 42s/step\n",
      "0.022417966 1.0 1.0\n",
      "\n",
      " Epoch 22/30\n",
      "5/5 [==============================] - 218s 42s/step\n",
      "0.00022322887 1.0 1.0\n",
      "\n",
      " Epoch 23/30\n",
      "5/5 [==============================] - 229s 45s/step\n",
      "3.4309778e-05 1.0 1.0\n",
      "\n",
      " Epoch 24/30\n",
      "5/5 [==============================] - 224s 43s/step\n",
      "1.7631712e-05 1.0 1.0\n",
      "\n",
      " Epoch 25/30\n",
      "5/5 [==============================] - 221s 42s/step\n",
      "0.00023037751 1.0 1.0\n",
      "\n",
      " Epoch 26/30\n",
      "5/5 [==============================] - 221s 43s/step\n",
      "1.7154856e-05 1.0 1.0\n",
      "\n",
      " Epoch 27/30\n",
      "5/5 [==============================] - 221s 43s/step\n",
      "0.006629131 1.0 1.0\n",
      "\n",
      " Epoch 28/30\n",
      "5/5 [==============================] - 220s 42s/step\n",
      "0.0017268795 1.0 1.0\n",
      "\n",
      " Epoch 29/30\n",
      "5/5 [==============================] - 223s 42s/step\n",
      "0.006801793 1.0 1.0\n",
      "\n",
      " Epoch 30/30\n",
      "5/5 [==============================] - 220s 42s/step\n",
      "0.00407241 1.0 1.0\n"
     ]
    }
   ],
   "source": [
    "train(train_data, EPOCHS)"
   ]
  },
  {
   "cell_type": "markdown",
   "id": "dfa07ee7",
   "metadata": {},
   "source": [
    "# Evaluate Model"
   ]
  },
  {
   "cell_type": "markdown",
   "id": "0780f2a8",
   "metadata": {},
   "source": [
    "## Import Metrics"
   ]
  },
  {
   "cell_type": "code",
   "execution_count": 68,
   "id": "c50e4cba",
   "metadata": {},
   "outputs": [],
   "source": [
    "# Import metric calculations\n",
    "from tensorflow.keras.metrics import Precision, Recall"
   ]
  },
  {
   "cell_type": "markdown",
   "id": "355c1aa8",
   "metadata": {},
   "source": [
    "## Make Predictions"
   ]
  },
  {
   "cell_type": "code",
   "execution_count": 69,
   "id": "bc113872",
   "metadata": {},
   "outputs": [],
   "source": [
    "# Get a batch of test data\n",
    "test_input, test_val, y_true = test_data.as_numpy_iterator().next()"
   ]
  },
  {
   "cell_type": "code",
   "execution_count": 70,
   "id": "94238d54",
   "metadata": {},
   "outputs": [
    {
     "data": {
      "text/plain": [
       "array([[7.01671681e-08],\n",
       "       [1.19007105e-04],\n",
       "       [8.47986996e-08],\n",
       "       [1.01848485e-08],\n",
       "       [9.55367454e-07],\n",
       "       [1.64909828e-08],\n",
       "       [9.95656729e-01],\n",
       "       [1.41104167e-07],\n",
       "       [8.42214760e-08],\n",
       "       [1.80313265e-07],\n",
       "       [1.07184297e-08],\n",
       "       [6.79926515e-08],\n",
       "       [7.01963501e-08],\n",
       "       [9.98368025e-01],\n",
       "       [1.10113749e-08],\n",
       "       [9.95857596e-01]], dtype=float32)"
      ]
     },
     "execution_count": 70,
     "metadata": {},
     "output_type": "execute_result"
    }
   ],
   "source": [
    "y_hat = siamese_model.predict([test_input, test_val])\n",
    "y_hat"
   ]
  },
  {
   "cell_type": "code",
   "execution_count": 71,
   "id": "9c983531",
   "metadata": {},
   "outputs": [
    {
     "data": {
      "text/plain": [
       "[0, 0, 0, 0, 0, 0, 1, 0, 0, 0, 0, 0, 0, 1, 0, 1]"
      ]
     },
     "execution_count": 71,
     "metadata": {},
     "output_type": "execute_result"
    }
   ],
   "source": [
    "# Post processing the results \n",
    "[1 if prediction > 0.5 else 0 for prediction in y_hat ]"
   ]
  },
  {
   "cell_type": "code",
   "execution_count": 72,
   "id": "7e90bee0",
   "metadata": {},
   "outputs": [
    {
     "data": {
      "text/plain": [
       "array([0., 0., 0., 0., 0., 0., 1., 0., 0., 0., 0., 0., 0., 1., 0., 1.],\n",
       "      dtype=float32)"
      ]
     },
     "execution_count": 72,
     "metadata": {},
     "output_type": "execute_result"
    }
   ],
   "source": [
    "y_true"
   ]
  },
  {
   "cell_type": "markdown",
   "id": "dcb8e8b2",
   "metadata": {},
   "source": [
    "## Calculate Metrics"
   ]
  },
  {
   "cell_type": "code",
   "execution_count": 73,
   "id": "170b681e",
   "metadata": {},
   "outputs": [
    {
     "data": {
      "text/plain": [
       "1.0"
      ]
     },
     "execution_count": 73,
     "metadata": {},
     "output_type": "execute_result"
    }
   ],
   "source": [
    "# Creating a metric object \n",
    "m = Recall()\n",
    "\n",
    "# Calculating the recall value \n",
    "m.update_state(y_true, y_hat)\n",
    "\n",
    "# Return Recall Result\n",
    "m.result().numpy()"
   ]
  },
  {
   "cell_type": "code",
   "execution_count": 74,
   "id": "9a9452de",
   "metadata": {},
   "outputs": [
    {
     "data": {
      "text/plain": [
       "1.0"
      ]
     },
     "execution_count": 74,
     "metadata": {},
     "output_type": "execute_result"
    }
   ],
   "source": [
    "# Creating a metric object \n",
    "m = Precision()\n",
    "\n",
    "# Calculating the recall value \n",
    "m.update_state(y_true, y_hat)\n",
    "\n",
    "# Return Recall Result\n",
    "m.result().numpy()\n"
   ]
  },
  {
   "cell_type": "code",
   "execution_count": 75,
   "id": "d903e750",
   "metadata": {},
   "outputs": [
    {
     "name": "stdout",
     "output_type": "stream",
     "text": [
      "1.0 1.0\n"
     ]
    }
   ],
   "source": [
    "r = Recall()\n",
    "p = Precision()\n",
    "\n",
    "for test_input, test_val, y_true in test_data.as_numpy_iterator():\n",
    "    yhat = siamese_model.predict([test_input, test_val])\n",
    "    r.update_state(y_true, yhat)\n",
    "    p.update_state(y_true,yhat) \n",
    "\n",
    "print(r.result().numpy(), p.result().numpy())"
   ]
  },
  {
   "cell_type": "markdown",
   "id": "73e65552",
   "metadata": {},
   "source": [
    "## Visualize Results"
   ]
  },
  {
   "cell_type": "code",
   "execution_count": 78,
   "id": "6490222d",
   "metadata": {},
   "outputs": [
    {
     "data": {
      "image/png": "[encoded data removed]",
      "text/plain": [
       "<Figure size 720x576 with 2 Axes>"
      ]
     },
     "metadata": {
      "needs_background": "light"
     },
     "output_type": "display_data"
    }
   ],
   "source": [
    "# Set plot size \n",
    "plt.figure(figsize=(10,8))\n",
    "\n",
    "# Set first subplot\n",
    "plt.subplot(1,2,1)\n",
    "plt.imshow(test_input[0])\n",
    "\n",
    "# Set second subplot\n",
    "plt.subplot(1,2,2)\n",
    "plt.imshow(test_val[0])\n",
    "\n",
    "# Renders cleanly\n",
    "plt.show()"
   ]
  },
  {
   "cell_type": "markdown",
   "id": "4ac60df9",
   "metadata": {},
   "source": [
    "## Save Model"
   ]
  },
  {
   "cell_type": "code",
   "execution_count": 79,
   "id": "c87c1c8c",
   "metadata": {},
   "outputs": [
    {
     "name": "stdout",
     "output_type": "stream",
     "text": [
      "WARNING:tensorflow:Compiled the loaded model, but the compiled metrics have yet to be built. `model.compile_metrics` will be empty until you train or evaluate the model.\n"
     ]
    }
   ],
   "source": [
    "# Save weights\n",
    "siamese_model.save('siamesemodelv5.h5')"
   ]
  },
  {
   "cell_type": "code",
   "execution_count": 80,
   "id": "fb03da01",
   "metadata": {},
   "outputs": [
    {
     "data": {
      "text/plain": [
       "__main__.L1Dist"
      ]
     },
     "execution_count": 80,
     "metadata": {},
     "output_type": "execute_result"
    }
   ],
   "source": [
    "L1Dist"
   ]
  },
  {
   "cell_type": "code",
   "execution_count": 89,
   "id": "3f9aaef0",
   "metadata": {},
   "outputs": [
    {
     "name": "stdout",
     "output_type": "stream",
     "text": [
      "WARNING:tensorflow:No training configuration found in the save file, so the model was *not* compiled. Compile it manually.\n"
     ]
    }
   ],
   "source": [
    "# Reload model \n",
    "siamese_model = tf.keras.models.load_model('siamesemodelv5.h5', \n",
    "                                   custom_objects={'L1Dist':L1Dist, 'BinaryCrossentropy':tf.losses.BinaryCrossentropy})"
   ]
  },
  {
   "cell_type": "code",
   "execution_count": null,
   "id": "4b2b052b",
   "metadata": {},
   "outputs": [],
   "source": []
  },
  {
   "cell_type": "code",
   "execution_count": 90,
   "id": "c8060605",
   "metadata": {},
   "outputs": [
    {
     "data": {
      "text/plain": [
       "array([[9.96323407e-01],\n",
       "       [1.04354884e-04],\n",
       "       [7.66272478e-07],\n",
       "       [3.26647616e-08],\n",
       "       [9.97865677e-01],\n",
       "       [2.61106464e-07],\n",
       "       [9.88303900e-01],\n",
       "       [4.21368895e-09],\n",
       "       [9.94358897e-01],\n",
       "       [4.93417467e-08],\n",
       "       [9.98368025e-01],\n",
       "       [9.99883175e-01],\n",
       "       [1.64909828e-08],\n",
       "       [3.18162385e-09]], dtype=float32)"
      ]
     },
     "execution_count": 90,
     "metadata": {},
     "output_type": "execute_result"
    }
   ],
   "source": [
    "# Make predictions with reloaded model\n",
    "siamese_model.predict([test_input, test_val])"
   ]
  },
  {
   "cell_type": "code",
   "execution_count": 91,
   "id": "0ba07ee9",
   "metadata": {},
   "outputs": [
    {
     "name": "stdout",
     "output_type": "stream",
     "text": [
      "Model: \"SiameseNetwork\"\n",
      "__________________________________________________________________________________________________\n",
      " Layer (type)                   Output Shape         Param #     Connected to                     \n",
      "==================================================================================================\n",
      " input_img (InputLayer)         [(None, 100, 100, 3  0           []                               \n",
      "                                )]                                                                \n",
      "                                                                                                  \n",
      " validation_img (InputLayer)    [(None, 100, 100, 3  0           []                               \n",
      "                                )]                                                                \n",
      "                                                                                                  \n",
      " embedding (Functional)         (None, 4096)         38960448    ['input_img[0][0]',              \n",
      "                                                                  'validation_img[0][0]']         \n",
      "                                                                                                  \n",
      " l1_dist_4 (L1Dist)             (None, 4096)         0           ['embedding[0][0]',              \n",
      "                                                                  'embedding[1][0]']              \n",
      "                                                                                                  \n",
      " dense_3 (Dense)                (None, 1)            4097        ['l1_dist_4[0][0]']              \n",
      "                                                                                                  \n",
      "==================================================================================================\n",
      "Total params: 38,964,545\n",
      "Trainable params: 38,964,545\n",
      "Non-trainable params: 0\n",
      "__________________________________________________________________________________________________\n"
     ]
    }
   ],
   "source": [
    "# View model summary\n",
    "siamese_model.summary()"
   ]
  },
  {
   "cell_type": "markdown",
   "id": "082208ab",
   "metadata": {},
   "source": [
    "# Real Time Test"
   ]
  },
  {
   "cell_type": "markdown",
   "id": "03687861",
   "metadata": {},
   "source": [
    "## Verification Function"
   ]
  },
  {
   "cell_type": "code",
   "execution_count": 370,
   "id": "a17a1690",
   "metadata": {},
   "outputs": [],
   "source": [
    "application_data\\verification_images"
   ]
  },
  {
   "cell_type": "code",
   "execution_count": 92,
   "id": "3a36b437",
   "metadata": {},
   "outputs": [
    {
     "data": {
      "text/plain": [
       "['3dd5f3b0-23b9-11ed-8bf0-80ce6285d360.jpg',\n",
       " '3e7a0103-23b9-11ed-b1cb-80ce6285d360.jpg',\n",
       " 'ab5893c8-23b8-11ed-8734-80ce6285d360.jpg',\n",
       " 'ab8d3141-23b8-11ed-9932-80ce6285d360.jpg',\n",
       " 'abcdaad0-23b8-11ed-969b-80ce6285d360.jpg',\n",
       " 'ae60d415-23b8-11ed-bb12-80ce6285d360.jpg',\n",
       " 'ae99efa3-23b8-11ed-80bd-80ce6285d360.jpg',\n",
       " 'afbdf425-23b8-11ed-b57e-80ce6285d360.jpg',\n",
       " 'ce515c58-23b8-11ed-aaf8-80ce6285d360.jpg',\n",
       " 'd0b83f0e-23b8-11ed-91d5-80ce6285d360.jpg',\n",
       " 'd2128666-23b8-11ed-95d9-80ce6285d360.jpg',\n",
       " 'd2683aab-23b8-11ed-9f16-80ce6285d360.jpg',\n",
       " 'd46d8a3d-23b8-11ed-8d05-80ce6285d360.jpg',\n",
       " 'd4d19e1d-23b8-11ed-ba1c-80ce6285d360.jpg',\n",
       " 'd6404475-23b8-11ed-9e6a-80ce6285d360.jpg',\n",
       " 'd69dbe0b-23b8-11ed-8896-80ce6285d360.jpg',\n",
       " 'd702202e-23b8-11ed-b3eb-80ce6285d360.jpg',\n",
       " 'd8124e90-23b8-11ed-a3ca-80ce6285d360.jpg',\n",
       " 'da2c3c39-23b8-11ed-9566-80ce6285d360.jpg',\n",
       " 'da826af4-23b8-11ed-835b-80ce6285d360.jpg',\n",
       " 'dbfb15cb-23b8-11ed-94c3-80ce6285d360.jpg',\n",
       " 'dd6590e9-23b8-11ed-b97a-80ce6285d360 - Copy.jpg',\n",
       " 'dd6590e9-23b8-11ed-b97a-80ce6285d360.jpg',\n",
       " 'e13c0487-23b8-11ed-bdd3-80ce6285d360 - Copy.jpg',\n",
       " 'e13c0487-23b8-11ed-bdd3-80ce6285d360.jpg',\n",
       " 'e5441b47-23b8-11ed-b9f5-80ce6285d360 - Copy.jpg',\n",
       " 'e5441b47-23b8-11ed-b9f5-80ce6285d360.jpg',\n",
       " 'f0045b42-23b8-11ed-b55f-80ce6285d360.jpg',\n",
       " 'f08c35ec-23b8-11ed-8890-80ce6285d360 - Copy.jpg',\n",
       " 'f08c35ec-23b8-11ed-8890-80ce6285d360.jpg',\n",
       " 'f10d6f2b-23b8-11ed-8c61-80ce6285d360 - Copy.jpg',\n",
       " 'f10d6f2b-23b8-11ed-8c61-80ce6285d360.jpg',\n",
       " 'f2255254-23b8-11ed-8cb6-80ce6285d360 - Copy.jpg',\n",
       " 'f2255254-23b8-11ed-8cb6-80ce6285d360.jpg',\n",
       " 'f63b897e-23b8-11ed-9a80-80ce6285d360.jpg',\n",
       " 'f674da68-23b8-11ed-97d9-80ce6285d360 - Copy.jpg',\n",
       " 'f674da68-23b8-11ed-97d9-80ce6285d360.jpg',\n",
       " 'f7768cbe-23b8-11ed-8d0c-80ce6285d360 - Copy.jpg',\n",
       " 'f7768cbe-23b8-11ed-8d0c-80ce6285d360.jpg']"
      ]
     },
     "execution_count": 92,
     "metadata": {},
     "output_type": "execute_result"
    }
   ],
   "source": [
    "os.listdir(os.path.join('application_data', 'verification_images'))\n"
   ]
  },
  {
   "cell_type": "code",
   "execution_count": 93,
   "id": "bd6f6820",
   "metadata": {},
   "outputs": [
    {
     "data": {
      "text/plain": [
       "'application_data\\\\input_image\\\\input_image.jpg'"
      ]
     },
     "execution_count": 93,
     "metadata": {},
     "output_type": "execute_result"
    }
   ],
   "source": [
    "os.path.join('application_data', 'input_image', 'input_image.jpg')\n"
   ]
  },
  {
   "cell_type": "code",
   "execution_count": 94,
   "id": "d729c29d",
   "metadata": {},
   "outputs": [
    {
     "name": "stdout",
     "output_type": "stream",
     "text": [
      "application_data\\verification_images\\3dd5f3b0-23b9-11ed-8bf0-80ce6285d360.jpg\n",
      "application_data\\verification_images\\3e7a0103-23b9-11ed-b1cb-80ce6285d360.jpg\n",
      "application_data\\verification_images\\ab5893c8-23b8-11ed-8734-80ce6285d360.jpg\n",
      "application_data\\verification_images\\ab8d3141-23b8-11ed-9932-80ce6285d360.jpg\n",
      "application_data\\verification_images\\abcdaad0-23b8-11ed-969b-80ce6285d360.jpg\n",
      "application_data\\verification_images\\ae60d415-23b8-11ed-bb12-80ce6285d360.jpg\n",
      "application_data\\verification_images\\ae99efa3-23b8-11ed-80bd-80ce6285d360.jpg\n",
      "application_data\\verification_images\\afbdf425-23b8-11ed-b57e-80ce6285d360.jpg\n",
      "application_data\\verification_images\\ce515c58-23b8-11ed-aaf8-80ce6285d360.jpg\n",
      "application_data\\verification_images\\d0b83f0e-23b8-11ed-91d5-80ce6285d360.jpg\n",
      "application_data\\verification_images\\d2128666-23b8-11ed-95d9-80ce6285d360.jpg\n",
      "application_data\\verification_images\\d2683aab-23b8-11ed-9f16-80ce6285d360.jpg\n",
      "application_data\\verification_images\\d46d8a3d-23b8-11ed-8d05-80ce6285d360.jpg\n",
      "application_data\\verification_images\\d4d19e1d-23b8-11ed-ba1c-80ce6285d360.jpg\n",
      "application_data\\verification_images\\d6404475-23b8-11ed-9e6a-80ce6285d360.jpg\n",
      "application_data\\verification_images\\d69dbe0b-23b8-11ed-8896-80ce6285d360.jpg\n",
      "application_data\\verification_images\\d702202e-23b8-11ed-b3eb-80ce6285d360.jpg\n",
      "application_data\\verification_images\\d8124e90-23b8-11ed-a3ca-80ce6285d360.jpg\n",
      "application_data\\verification_images\\da2c3c39-23b8-11ed-9566-80ce6285d360.jpg\n",
      "application_data\\verification_images\\da826af4-23b8-11ed-835b-80ce6285d360.jpg\n",
      "application_data\\verification_images\\dbfb15cb-23b8-11ed-94c3-80ce6285d360.jpg\n",
      "application_data\\verification_images\\dd6590e9-23b8-11ed-b97a-80ce6285d360 - Copy.jpg\n",
      "application_data\\verification_images\\dd6590e9-23b8-11ed-b97a-80ce6285d360.jpg\n",
      "application_data\\verification_images\\e13c0487-23b8-11ed-bdd3-80ce6285d360 - Copy.jpg\n",
      "application_data\\verification_images\\e13c0487-23b8-11ed-bdd3-80ce6285d360.jpg\n",
      "application_data\\verification_images\\e5441b47-23b8-11ed-b9f5-80ce6285d360 - Copy.jpg\n",
      "application_data\\verification_images\\e5441b47-23b8-11ed-b9f5-80ce6285d360.jpg\n",
      "application_data\\verification_images\\f0045b42-23b8-11ed-b55f-80ce6285d360.jpg\n",
      "application_data\\verification_images\\f08c35ec-23b8-11ed-8890-80ce6285d360 - Copy.jpg\n",
      "application_data\\verification_images\\f08c35ec-23b8-11ed-8890-80ce6285d360.jpg\n",
      "application_data\\verification_images\\f10d6f2b-23b8-11ed-8c61-80ce6285d360 - Copy.jpg\n",
      "application_data\\verification_images\\f10d6f2b-23b8-11ed-8c61-80ce6285d360.jpg\n",
      "application_data\\verification_images\\f2255254-23b8-11ed-8cb6-80ce6285d360 - Copy.jpg\n",
      "application_data\\verification_images\\f2255254-23b8-11ed-8cb6-80ce6285d360.jpg\n",
      "application_data\\verification_images\\f63b897e-23b8-11ed-9a80-80ce6285d360.jpg\n",
      "application_data\\verification_images\\f674da68-23b8-11ed-97d9-80ce6285d360 - Copy.jpg\n",
      "application_data\\verification_images\\f674da68-23b8-11ed-97d9-80ce6285d360.jpg\n",
      "application_data\\verification_images\\f7768cbe-23b8-11ed-8d0c-80ce6285d360 - Copy.jpg\n",
      "application_data\\verification_images\\f7768cbe-23b8-11ed-8d0c-80ce6285d360.jpg\n"
     ]
    }
   ],
   "source": [
    "for image in os.listdir(os.path.join('application_data', 'verification_images')):\n",
    "    validation_img = os.path.join('application_data', 'verification_images', image)\n",
    "    print(validation_img)"
   ]
  },
  {
   "cell_type": "code",
   "execution_count": 95,
   "id": "324edb90",
   "metadata": {},
   "outputs": [],
   "source": [
    "def verify(model, detection_threshold, verification_threshold):\n",
    "    # Build results array\n",
    "    results = []\n",
    "    for image in os.listdir(os.path.join('application_data', 'verification_images')):\n",
    "        input_img = preprocess(os.path.join('application_data', 'input_image', 'input_image.jpg'))\n",
    "        validation_img = preprocess(os.path.join('application_data', 'verification_images', image))\n",
    "        \n",
    "        # Make Predictions \n",
    "        result = model.predict(list(np.expand_dims([input_img, validation_img], axis=1)))\n",
    "        results.append(result)\n",
    "    \n",
    "    # Detection Threshold: Metric above which a prediciton is considered positive \n",
    "    detection = np.sum(np.array(results) > detection_threshold)\n",
    "    \n",
    "    # Verification Threshold: Proportion of positive predictions / total positive samples \n",
    "    verification = detection / len(os.listdir(os.path.join('application_data', 'verification_images'))) \n",
    "    verified = verification > verification_threshold\n",
    "    \n",
    "    return results, verified"
   ]
  },
  {
   "cell_type": "markdown",
   "id": "475db00e",
   "metadata": {},
   "source": [
    "# OpenCV Real Time Verification"
   ]
  },
  {
   "cell_type": "code",
   "execution_count": 130,
   "id": "ed41e28c",
   "metadata": {},
   "outputs": [],
   "source": [
    "cap = cv2.VideoCapture(0)\n",
    "while cap.isOpened():\n",
    "    ret, frame = cap.read()\n",
    "    frame = frame[120:120+250,200:200+250, :]\n",
    "    \n",
    "    cv2.imshow('Verification', frame)\n",
    "    \n",
    "    # Verification trigger\n",
    "    if cv2.waitKey(10) & 0xFF == ord('v'):\n",
    "        # Save input image to application_data/input_image folder \n",
    "#         hsv = cv2.cvtColor(frame, cv2.COLOR_BGR2HSV)\n",
    "#         h, s, v = cv2.split(hsv)\n",
    "\n",
    "#         lim = 255 - 10\n",
    "#         v[v > lim] = 255\n",
    "#         v[v <= lim] -= 10\n",
    "        \n",
    "#         final_hsv = cv2.merge((h, s, v))\n",
    "#         img = cv2.cvtColor(final_hsv, cv2.COLOR_HSV2BGR)\n",
    "\n",
    "        cv2.imwrite(os.path.join('application_data', 'input_image', 'input_image.jpg'), frame)\n",
    "        # Run verification\n",
    "        results, verified = verify(siamese_model, 0.8, 0.9)\n",
    "        print(verified)\n",
    "    \n",
    "    if cv2.waitKey(10) & 0xFF == ord('q'):\n",
    "        break\n",
    "cap.release()\n",
    "cv2.destroyAllWindows()"
   ]
  },
  {
   "cell_type": "code",
   "execution_count": 131,
   "id": "2a558e6e",
   "metadata": {},
   "outputs": [
    {
     "data": {
      "text/plain": [
       "[array([[0.93829596]], dtype=float32),\n",
       " array([[0.572102]], dtype=float32),\n",
       " array([[0.98740363]], dtype=float32),\n",
       " array([[0.9803661]], dtype=float32),\n",
       " array([[0.958526]], dtype=float32),\n",
       " array([[0.7954118]], dtype=float32),\n",
       " array([[0.81027627]], dtype=float32),\n",
       " array([[0.7660966]], dtype=float32),\n",
       " array([[0.99994314]], dtype=float32),\n",
       " array([[0.99996084]], dtype=float32),\n",
       " array([[0.999956]], dtype=float32),\n",
       " array([[0.9999478]], dtype=float32),\n",
       " array([[0.99993515]], dtype=float32),\n",
       " array([[0.99991024]], dtype=float32),\n",
       " array([[0.3942916]], dtype=float32),\n",
       " array([[0.8545782]], dtype=float32),\n",
       " array([[0.995895]], dtype=float32),\n",
       " array([[0.9999764]], dtype=float32),\n",
       " array([[0.8940236]], dtype=float32),\n",
       " array([[0.39514944]], dtype=float32),\n",
       " array([[0.9849231]], dtype=float32),\n",
       " array([[0.8365103]], dtype=float32),\n",
       " array([[0.8365103]], dtype=float32),\n",
       " array([[0.54013324]], dtype=float32),\n",
       " array([[0.54013324]], dtype=float32),\n",
       " array([[0.99612343]], dtype=float32),\n",
       " array([[0.99612343]], dtype=float32),\n",
       " array([[0.9997176]], dtype=float32),\n",
       " array([[0.9912402]], dtype=float32),\n",
       " array([[0.9912402]], dtype=float32),\n",
       " array([[0.9899249]], dtype=float32),\n",
       " array([[0.9899249]], dtype=float32),\n",
       " array([[0.98192084]], dtype=float32),\n",
       " array([[0.98192084]], dtype=float32),\n",
       " array([[0.99753654]], dtype=float32),\n",
       " array([[0.9975439]], dtype=float32),\n",
       " array([[0.9975439]], dtype=float32),\n",
       " array([[0.99764407]], dtype=float32),\n",
       " array([[0.99764407]], dtype=float32)]"
      ]
     },
     "execution_count": 131,
     "metadata": {},
     "output_type": "execute_result"
    }
   ],
   "source": [
    "results"
   ]
  },
  {
   "cell_type": "code",
   "execution_count": null,
   "id": "859ed5d9",
   "metadata": {},
   "outputs": [],
   "source": []
  }
 ],
 "metadata": {
  "kernelspec": {
   "display_name": "Python 3 (ipykernel)",
   "language": "python",
   "name": "python3"
  },
  "language_info": {
   "codemirror_mode": {
    "name": "ipython",
    "version": 3
   },
   "file_extension": ".py",
   "mimetype": "text/x-python",
   "name": "python",
   "nbconvert_exporter": "python",
   "pygments_lexer": "ipython3",
   "version": "3.10.0"
  }
 },
 "nbformat": 4,
 "nbformat_minor": 5
}
